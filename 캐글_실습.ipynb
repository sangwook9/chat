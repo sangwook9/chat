{
  "nbformat": 4,
  "nbformat_minor": 0,
  "metadata": {
    "colab": {
      "provenance": [],
      "authorship_tag": "ABX9TyNU8AB71uEpJ6PV8XXlOZZA",
      "include_colab_link": true
    },
    "kernelspec": {
      "name": "python3",
      "display_name": "Python 3"
    },
    "language_info": {
      "name": "python"
    }
  },
  "cells": [
    {
      "cell_type": "markdown",
      "metadata": {
        "id": "view-in-github",
        "colab_type": "text"
      },
      "source": [
        "<a href=\"https://colab.research.google.com/github/sangwook9/chat/blob/main/%EC%BA%90%EA%B8%80_%EC%8B%A4%EC%8A%B5.ipynb\" target=\"_parent\"><img src=\"https://colab.research.google.com/assets/colab-badge.svg\" alt=\"Open In Colab\"/></a>"
      ]
    },
    {
      "cell_type": "code",
      "execution_count": null,
      "metadata": {
        "id": "OXqCG96rF8Ts"
      },
      "outputs": [],
      "source": []
    },
    {
      "cell_type": "markdown",
      "source": [
        "# 탐색적 데이터 분석 (Exploratory Data Analysis, EDA)\n",
        "\n",
        "탐색적 데이터 분석(EDA)은 데이터 분석의 초기 단계에서 데이터 이해, 주요 패턴 발견, 가설 생성, 데이터 특성 파악하는 과정.\n",
        "\n",
        "EDA는 데이터의 분포, 이상치, 결측치 등을 시각화하고 요약 통계를 통해 데이터를 탐색하는 것을 포함함.\n",
        "\n",
        "##EDA의 주요 목표\n",
        "- 데이터의 구조와 특성을 이해\n",
        "- 데이터의 분포와 패턴 파악\n",
        "- 이상치 및 결측치 탐지\n",
        "- 변수 간의 관계 탐색\n",
        "- 데이터 전처리 및 변환 필요성 평가\n"
      ],
      "metadata": {
        "id": "Ij0EO89gGhpE"
      }
    },
    {
      "cell_type": "markdown",
      "source": [
        "# 데이터 구조 이해의 중요성\n",
        "\n",
        "데이터베이스의 구조와 스키마를 이해하는 것이 매우 중요.\n",
        "\n",
        "데이터 구조 이해 시 데이터베이스 성능을 최적화, 데이터 무결성 보장, 효율적인 쿼리 작성 가능.\n",
        "\n",
        "##데이터 구조 이해의 주요 목표\n",
        "- 테이블 간의 관계 파악\n",
        "- 데이터 타입 및 제약 조건 분석\n",
        "- 데이터베이스 정규화\n",
        "- 데이터베이스 성능 최적화"
      ],
      "metadata": {
        "id": "YtGIK7ukGfGX"
      }
    },
    {
      "cell_type": "markdown",
      "source": [
        "# EDA의 방법론\n",
        "\n",
        "주요 방법론\n",
        "\n",
        "1. 요약 통계 (Summary Statistics)\n",
        "   - 평균, 중앙값, 최빈값, 분산, 표준편차 등\n",
        "\n",
        "2. 데이터 시각화 (Data Visualization)\n",
        "   - 히스토그램, 박스플롯, 산점도, 막대그래프 등\n",
        "\n",
        "3. 결측치 분석 (Missing Value Analysis)\n",
        "   - 결측치의 비율과 패턴 파악\n",
        "\n",
        "4. 이상치 탐지 (Outlier Detection)\n",
        "   - 이상치의 식별 및 처리\n",
        "\n",
        "5. 변수 간 관계 분석 (Correlation Analysis)\n",
        "   - 상관계수, 피어슨 상관계수 등"
      ],
      "metadata": {
        "id": "nXPqmXCYGhIa"
      }
    },
    {
      "cell_type": "markdown",
      "source": [
        "# 타이타닉 생존자 데이터셋을 사용한 EDA 실습\n",
        "\n",
        "타이타닉 생존자 데이터셋을 사용하여 EDA를 실습 진행.\n"
      ],
      "metadata": {
        "id": "WX-N1fM7Glvn"
      }
    },
    {
      "cell_type": "code",
      "source": [
        "pip install squarify"
      ],
      "metadata": {
        "id": "dXvZjB4VGox8"
      },
      "execution_count": null,
      "outputs": []
    },
    {
      "cell_type": "code",
      "source": [
        "# 필요한 라이브러리 불러오기\n",
        "import pandas as pd\n",
        "import numpy as np\n",
        "import matplotlib.pyplot as plt\n",
        "import seaborn as sns\n",
        "import squarify\n",
        "from math import pi"
      ],
      "metadata": {
        "id": "lbEUmy_eGrhD"
      },
      "execution_count": null,
      "outputs": []
    },
    {
      "cell_type": "code",
      "source": [
        "# 데이터셋 불러오기\n",
        "url = 'https://raw.githubusercontent.com/datasciencedojo/datasets/master/titanic.csv'\n",
        "df = pd.read_csv(url)"
      ],
      "metadata": {
        "id": "IAokv098GuD6"
      },
      "execution_count": null,
      "outputs": []
    },
    {
      "cell_type": "markdown",
      "source": [
        "# 테이블 간의 관계 파악\n",
        "\n",
        "타이타닉 데이터셋은 단일 테이블로 구성되어 있지만,\n",
        "실제 데이터베이스에서는 여러 테이블 간의 관계를 이해하는 것이 중요.\n",
        "\n",
        "정규화 된 테이블의 경우 하나의 테이블에 하나의 목적만 담아서 활용하기 때문에 여러 테이블을 연결해서 사용해야 하며,\n",
        "\n",
        "이에 따라 Key를 찾는 것이 중요함\n",
        "\n",
        "##타이타닉 데이터셋의 주요 컬럼\n",
        "- PassengerId: 승객 ID (기본 키)\n",
        "- Survived: 생존 여부 (0 = 사망, 1 = 생존)\n",
        "- Pclass: 승객 등급 (1 = 1등급, 2 = 2등급, 3 = 3등급)\n",
        "- Name: 승객 이름\n",
        "- Sex: 성별\n",
        "- Age: 나이\n",
        "- SibSp: 함께 탑승한 형제자매/배우자 수\n",
        "- Parch: 함께 탑승한 부모/자녀 수\n",
        "- Ticket: 티켓 번호\n",
        "- Fare: 운임\n",
        "- Cabin: 객실 번호\n",
        "- Embarked: 탑승 항구 (C = Cherbourg, Q = Queenstown, S = Southampton)"
      ],
      "metadata": {
        "id": "LELiMeV3Gw9W"
      }
    },
    {
      "cell_type": "code",
      "source": [],
      "metadata": {
        "id": "uZlcK71JGyfZ"
      },
      "execution_count": null,
      "outputs": []
    }
  ]
}